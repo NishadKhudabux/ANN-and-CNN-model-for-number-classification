{
  "cells": [
    {
      "cell_type": "markdown",
      "metadata": {
        "id": "view-in-github",
        "colab_type": "text"
      },
      "source": [
        "<a href=\"https://colab.research.google.com/github/NishadKhudabux/ANN-and-CNN-model-for-number-classification/blob/main/ANN_NumberClassification_Notebook_GH.ipynb\" target=\"_parent\"><img src=\"https://colab.research.google.com/assets/colab-badge.svg\" alt=\"Open In Colab\"/></a>"
      ]
    },
    {
      "cell_type": "markdown",
      "metadata": {
        "id": "Q91KqmCRu64D"
      },
      "source": [
        "# **Artificial Neural Networks: Street View Housing Number Digit Recognition**\n",
        "\n",
        "Classification of Street View Housing Numbers (SVHN) image dataset using Artificial Neural Networks.\n",
        "\n",
        "--------------\n",
        "## **Context** \n",
        "--------------\n",
        "The SVHN dataset contains over 600,000 labeled digits cropped from street-level photos. It is one of the most popular image recognition datasets. It has been used in neural networks created by Google to improve the map quality by automatically transcribing the address numbers from a patch of pixels. The transcribed number with a known street address helps pinpoint the location of the building it represents. \n",
        "\n",
        "----------------\n",
        "## **Objective**\n",
        "----------------\n",
        "\n",
        "To build a feed-forward neural network model that can recognize the digits in the images. \n",
        "\n",
        "-------------\n",
        "## **Dataset**\n",
        "-------------\n",
        "Here, we will use a subset of the original data to save some computation time. The dataset is provided as a .h5 file (An H5 file is a data file saved in the Hierarchical Data Format). The basic preprocessing steps have been applied on the dataset."
      ]
    },
    {
      "cell_type": "markdown",
      "metadata": {
        "id": "8z2Z7-OAs8QG"
      },
      "source": [
        "## **Mount the drive**\n",
      ]
    },
    {
      "cell_type": "code",
      "execution_count": null,
      "metadata": {
        "colab": {
          "base_uri": "https://localhost:8080/"
        },
        "id": "03lDyQUuef7z",
        "outputId": "58214c83-a306-48b1-daa8-2c5c0c0a7fe7"
      },
      "outputs": [
        {
          "output_type": "stream",
          "name": "stdout",
          "text": [
            "Mounted at /content/drive\n"
          ]
        }
      ],
      "source": [
        "from google.colab import drive\n",
        "\n",
        "drive.mount('/content/drive')"
      ]
    },
    {
      "cell_type": "markdown",
      "metadata": {
        "id": "C8U3DUa3eNsT"
      },
      "source": [
        "## **Importing the necessary libraries**"
      ]
    },
    {
      "cell_type": "code",
      "execution_count": null,
      "metadata": {
        "id": "-dVzeuF3eQx1"
      },
      "outputs": [],
      "source": [
        "import numpy as np\n",
        "\n",
        "import pandas as pd\n",
        "\n",
        "import matplotlib.pyplot as plt\n",
        "\n",
        "#Data Visualization\n",
        "\n",
        "import seaborn as sns\n",
        "\n",
        "# Model Building\n",
        "\n",
        "from sklearn.model_selection import train_test_split\n",
        "\n",
        "from sklearn.preprocessing import MinMaxScaler\n",
        "\n",
        "import tensorflow as tf\n",
        "\n",
        "from tensorflow.keras.models import Sequential\n",
        "\n",
        "from tensorflow.keras.layers import Dense, Dropout, Activation, BatchNormalization\n",
        "\n",
        "from tensorflow.keras.losses import categorical_crossentropy\n",
        "\n",
        "from tensorflow.keras.optimizers import Adam\n",
        "\n",
        "from tensorflow.keras.utils import to_categorical"
      ]
    },
    {
      "cell_type": "markdown",
      "metadata": {
        "id": "ucnevGLoyKf_"
      },
      "source": [
        "**Check the version of tensorflow.**"
      ]
    },
    {
      "cell_type": "code",
      "execution_count": null,
      "metadata": {
        "colab": {
          "base_uri": "https://localhost:8080/"
        },
        "id": "W5as47YxyJVk",
        "outputId": "a86305e5-1589-4776-d7d0-fc5dd4a04b26"
      },
      "outputs": [
        {
          "output_type": "stream",
          "name": "stdout",
          "text": [
            "2.8.2\n"
          ]
        }
      ],
      "source": [
        "print(tf.__version__)"
      ]
    },
    {
      "cell_type": "markdown",
      "metadata": {
        "id": "8lsux2ZwyTTR"
      },
      "source": [
        "## **Load the dataset**\n",
        "\n",
        "- Load the dataset that is available as a .h5 file.\n",
        "- Split the data into the train and the test dataset."
      ]
    },
    {
      "cell_type": "code",
      "execution_count": null,
      "metadata": {
        "id": "BApX9qgNsqV0",
        "scrolled": true
      },
      "outputs": [],
      "source": [
        "import h5py\n",
        "\n",
        "# Open the file as read only\n",
        "# User can make changes in the path as required\n",
        "\n",
        "h5f = h5py.File('/content/drive/MyDrive/Colab Notebooks/MIT-Deep Learning/Elective Project/SVHN_single_grey1.h5', 'r') #change for my drive folders\n",
        "\n",
        "# Load the training and the test dataset\n",
        "\n",
        "X_train = h5f['X_train'][:]\n",
        "\n",
        "y_train = h5f['y_train'][:]\n",
        "\n",
        "X_test = h5f['X_test'][:]\n",
        "\n",
        "y_test = h5f['y_test'][:]\n",
        "\n",
        "\n",
        "# Close this file\n",
        "\n",
        "h5f.close()"
      ]
    },
    {
      "cell_type": "markdown",
      "metadata": {
        "id": "hVe0CYpUgj7w"
      },
      "source": [
        "Check the number of images in the training and the testing dataset."
      ]
    },
    {
      "cell_type": "code",
      "execution_count": null,
      "metadata": {
        "colab": {
          "base_uri": "https://localhost:8080/"
        },
        "id": "y3lwKpOefkpA",
        "outputId": "22f17efe-202d-4b00-e92c-2421eb70c5b7"
      },
      "outputs": [
        {
          "output_type": "execute_result",
          "data": {
            "text/plain": [
              "(42000, 18000)"
            ]
          },
          "metadata": {},
          "execution_count": 6
        }
      ],
      "source": [
        "len(X_train), len(X_test)"
      ]
    },
    {
      "cell_type": "markdown",
      "metadata": {
        "id": "akTUOfLlgwoM"
      },
      "source": [
        "**Observation:**\n",
        "- There are 42,000 images in the training data and 18,000 images in the testing data. "
      ]
    },
    {
      "cell_type": "markdown",
      "metadata": {
        "id": "kxODV6HKykuc"
      },
      "source": [
        "## **Visualizing images**\n",
        "\n",
        "- Use X_train to visualize the first 10 images.\n",
        "- Use Y_train to print the first 10 labels."
      ]
    },
    {
      "cell_type": "code",
      "execution_count": null,
      "metadata": {
        "colab": {
          "base_uri": "https://localhost:8080/",
          "height": 95
        },
        "id": "Bvsc8ytHsqWD",
        "outputId": "7a33e737-457f-4336-8edf-aa040515391c"
      },
      "outputs": [
        {
          "output_type": "display_data",
          "data": {
            "text/plain": [
              "<Figure size 720x72 with 10 Axes>"
            ],
            "image/png": "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\n"
          },
          "metadata": {
            "needs_background": "light"
          }
        },
        {
          "output_type": "stream",
          "name": "stdout",
          "text": [
            "label for each of the above image: [2 6 7 4 4 0 3 0 7 3]\n"
          ]
        }
      ],
      "source": [
        "# Visualizing the first 10 images in the dataset and printing their labels\n",
        "\n",
        "plt.figure(figsize = (10, 1))\n",
        "\n",
        "for i in range(10):\n",
        "\n",
        "    plt.subplot(1, 10, i+1)\n",
        "\n",
        "    plt.imshow(X_train[i], cmap = \"gray\")\n",
        "\n",
        "    plt.axis('off')\n",
        "\n",
        "plt.show()\n",
        "\n",
        "print('label for each of the above image: %s' % (y_train[0:10]))"
      ]
    },
    {
      "cell_type": "markdown",
      "metadata": {
        "id": "kzoyeXHOy80N"
      },
      "source": [
        "## **Data preparation**\n",
        "\n",
        "- Print the shape and the array of pixels for the first image in the training dataset.\n",
        "- Reshape the train and the test dataset because we always have to give a 4D array as input to CNNs.\n",
        "- Normalize the train and the test dataset by dividing by 255.\n",
        "- Print the new shapes of the train and the test dataset.\n",
        "- One-hot encode the target variable."
      ]
    },
    {
      "cell_type": "code",
      "execution_count": null,
      "metadata": {
        "colab": {
          "base_uri": "https://localhost:8080/"
        },
        "id": "NqndzQXng9rL",
        "outputId": "024fd29b-63af-4a15-a284-1a2593ad8e4a"
      },
      "outputs": [
        {
          "output_type": "stream",
          "name": "stdout",
          "text": [
            "Shape: (32, 32)\n",
            "\n",
            "First image:\n",
            " [[ 33.0704  30.2601  26.852  ...  71.4471  58.2204  42.9939]\n",
            " [ 25.2283  25.5533  29.9765 ... 113.0209 103.3639  84.2949]\n",
            " [ 26.2775  22.6137  40.4763 ... 113.3028 121.775  115.4228]\n",
            " ...\n",
            " [ 28.5502  36.212   45.0801 ...  24.1359  25.0927  26.0603]\n",
            " [ 38.4352  26.4733  23.2717 ...  28.1094  29.4683  30.0661]\n",
            " [ 50.2984  26.0773  24.0389 ...  49.6682  50.853   53.0377]]\n"
          ]
        }
      ],
      "source": [
        "# Shape and the array of pixels for the first image\n",
        "\n",
        "print(\"Shape:\", X_train[0].shape)\n",
        "\n",
        "print()\n",
        "\n",
        "print(\"First image:\\n\", X_train[0])"
      ]
    },
    {
      "cell_type": "code",
      "execution_count": null,
      "metadata": {
        "id": "D9YPwf9ysqWU"
      },
      "outputs": [],
      "source": [
        "# Reshaping the dataset to flatten them. We are reshaping the 2D image into 1D array\n",
        "\n",
        "X_train = X_train.reshape(X_train.shape[0], 1024)\n",
        "\n",
        "X_test = X_test.reshape(X_test.shape[0], 1024)"
      ]
    },
    {
      "cell_type": "markdown",
      "metadata": {
        "id": "f4CQkKtQ0XII"
      },
      "source": [
        "### **Normalize the train and the test data.**"
      ]
    },
    {
      "cell_type": "code",
      "execution_count": null,
      "metadata": {
        "id": "q_yUUTp_mUzB"
      },
      "outputs": [],
      "source": [
        "# Normalize inputs from 0-255 to 0-1\n",
        "# Since image pixel values range from 0-255 divide by 255 to normalize\n",
        "\n",
        "X_train = X_train/255.0   #dividing an array divides each element of the array\n",
        "\n",
        "X_test = X_test/255.0"
      ]
    },
    {
      "cell_type": "code",
      "execution_count": null,
      "metadata": {
        "colab": {
          "base_uri": "https://localhost:8080/"
        },
        "id": "t7FSqOpamWkH",
        "outputId": "5199414d-8cb5-4256-ca4e-290d37e39c18"
      },
      "outputs": [
        {
          "output_type": "stream",
          "name": "stdout",
          "text": [
            "Training set: (42000, 1024) (42000,)\n",
            "Test set: (18000, 1024) (18000,)\n"
          ]
        }
      ],
      "source": [
        "# New shape \n",
        "\n",
        "print('Training set:', X_train.shape, y_train.shape)\n",
        "\n",
        "print('Test set:', X_test.shape, y_test.shape)"
      ]
    },
    {
      "cell_type": "code",
      "execution_count": null,
      "metadata": {
        "colab": {
          "base_uri": "https://localhost:8080/"
        },
        "id": "zL0lYER4sqWw",
        "outputId": "45c1b6ea-85d8-42aa-9750-50ee195d3097"
      },
      "outputs": [
        {
          "output_type": "execute_result",
          "data": {
            "text/plain": [
              "array([[0., 1., 0., ..., 0., 0., 0.],\n",
              "       [0., 0., 0., ..., 1., 0., 0.],\n",
              "       [0., 0., 1., ..., 0., 0., 0.],\n",
              "       ...,\n",
              "       [0., 0., 0., ..., 1., 0., 0.],\n",
              "       [0., 0., 0., ..., 0., 0., 1.],\n",
              "       [0., 0., 1., ..., 0., 0., 0.]], dtype=float32)"
            ]
          },
          "metadata": {},
          "execution_count": 8
        }
      ],
      "source": [
        "# One-hot encode output\n",
        "\n",
        "y_train = to_categorical(y_train)\n",
        "\n",
        "y_test = to_categorical(y_test)\n",
        "\n",
        "# Test labels\n",
        "\n",
        "y_test"
      ]
    },
    {
      "cell_type": "markdown",
      "metadata": {
        "id": "ViqPOTquCF76"
      },
      "source": [
        "**Observation:**\n",
        "- Each entry of the target variable is a one-hot encoded vector instead of a single label."
      ]
    },
    {
      "cell_type": "markdown",
      "metadata": {
        "id": "yH-gVrzuByNA"
      },
      "source": [
        "## **Model Building**\n",
        "\n",
        "Now that we have done the data preprocessing, let's build an ANN model."
      ]
    },
    {
      "cell_type": "code",
      "execution_count": null,
      "metadata": {
        "id": "BcKRwrGn0XIL"
      },
      "outputs": [],
      "source": [
        "# Fixing the seed for random number generators\n",
        "\n",
        "np.random.seed(42)\n",
        "\n",
        "import random\n",
        "\n",
        "random.seed(42)\n",
        "\n",
        "tf.random.set_seed(42)"
      ]
    },
    {
      "cell_type": "markdown",
      "metadata": {
        "id": "UJDUoaEj1d6e"
      },
      "source": [
        "### **Model 1 Architecture**\n",
        "- Write a function that returns a sequential model with the following architecture:\n",
        " - First hidden layer with **64 nodes and the relu activation** and the **input shape = (1024, )**\n",
        " - Second hidden layer with **32 nodes and the relu activation**\n",
        " - Output layer with **activation as 'softmax' and number of nodes equal to the number of classes, i.e., 10**\n",
        " - Compile the model with the **loss equal to categorical_crossentropy, optimizer equal to Adam(learning_rate = 0.001), and metric equal to 'accuracy'**. Do not fit the model here, just return the compiled model.\n",
        "- Call the nn_model_1 function and store the model in a new variable. \n",
        "- Print the summary of the model.\n",
        "- Fit on the train data with a **validation split of 0.2, batch size = 128, verbose = 1, and epochs = 20**. Store the model building history to use later for visualization."
      ]
    },
    {
      "cell_type": "markdown",
      "metadata": {
        "id": "A48z6ucF0XIP"
      },
      "source": [
        "### **Build and train an ANN model as per the above mentioned architecture.**"
      ]
    },
    {
      "cell_type": "code",
      "execution_count": null,
      "metadata": {
        "id": "Cmi81Gr5sqW-"
      },
      "outputs": [],
      "source": [
        "from sklearn import metrics\n",
        "# Define the model\n",
        "\n",
        "def nn_model_1():\n",
        "\n",
        "    model = Sequential() \n",
        "\n",
        "  # Add layers as per the architecture mentioned above in the same sequence\n",
        "  # Fully connected layers are defined using the Dense class\n",
        "    \n",
        "    #First hidden layer with 64 nodes and the relu activation and the input shape = (1024, )\n",
        "    model.add(Dense(64, activation='relu', input_shape=(1024, )))\n",
        "\n",
        "    #Second hidden layer with 32 nodes and the relu activation\n",
        "    model.add(Dense(32,activation='relu'))\n",
        "\n",
        "    #Output layer with activation as 'softmax' and number of nodes equal to the number of classes (10)\n",
        "    model.add(Dense(10, activation='softmax'))\n",
        "      \n",
        "    # Compile the model\n",
        "    #Compile the model with the loss equal to categorical_crossentropy, optimizer equal to Adam(learning_rate = 0.001), and metric equal to 'accuracy'\n",
        "\n",
        "    model.compile(loss= 'categorical_crossentropy', optimizer= Adam(learning_rate =0.001), metrics=[\"accuracy\"])\n",
        "    \n",
        "    return model"
      ]
    },
    {
      "cell_type": "code",
      "execution_count": null,
      "metadata": {
        "id": "bGCUI_xsImnH"
      },
      "outputs": [],
      "source": [
        "# Build the model\n",
        "\n",
        "model_1 = nn_model_1()"
      ]
    },
    {
      "cell_type": "code",
      "execution_count": null,
      "metadata": {
        "colab": {
          "base_uri": "https://localhost:8080/"
        },
        "id": "ckJsLdmdQadZ",
        "outputId": "c6cc2046-1012-4775-9cb0-2caaaf7cdbd4"
      },
      "outputs": [
        {
          "output_type": "stream",
          "name": "stdout",
          "text": [
            "Model: \"sequential_1\"\n",
            "_________________________________________________________________\n",
            " Layer (type)                Output Shape              Param #   \n",
            "=================================================================\n",
            " dense_6 (Dense)             (None, 64)                65600     \n",
            "                                                                 \n",
            " dense_7 (Dense)             (None, 32)                2080      \n",
            "                                                                 \n",
            " dense_8 (Dense)             (None, 10)                330       \n",
            "                                                                 \n",
            "=================================================================\n",
            "Total params: 68,010\n",
            "Trainable params: 68,010\n",
            "Non-trainable params: 0\n",
            "_________________________________________________________________\n"
          ]
        }
      ],
      "source": [
        "# Print the summary\n",
        "\n",
        "model_1.summary()"
      ]
    },
    {
      "cell_type": "code",
      "execution_count": null,
      "metadata": {
        "colab": {
          "base_uri": "https://localhost:8080/"
        },
        "id": "3Fy3Dif_zcCk",
        "outputId": "147184ff-2f89-4d66-e0d2-3714e6331e73"
      },
      "outputs": [
        {
          "output_type": "stream",
          "name": "stdout",
          "text": [
            "Epoch 1/20\n",
            "263/263 [==============================] - 1s 4ms/step - loss: 2.3002 - accuracy: 0.1158 - val_loss: 2.2724 - val_accuracy: 0.1525\n",
            "Epoch 2/20\n",
            "263/263 [==============================] - 1s 4ms/step - loss: 2.1415 - accuracy: 0.2150 - val_loss: 1.9769 - val_accuracy: 0.3170\n",
            "Epoch 3/20\n",
            "263/263 [==============================] - 1s 4ms/step - loss: 1.8248 - accuracy: 0.3685 - val_loss: 1.6844 - val_accuracy: 0.4274\n",
            "Epoch 4/20\n",
            "263/263 [==============================] - 1s 4ms/step - loss: 1.6018 - accuracy: 0.4688 - val_loss: 1.5136 - val_accuracy: 0.5038\n",
            "Epoch 5/20\n",
            "263/263 [==============================] - 1s 4ms/step - loss: 1.4689 - accuracy: 0.5206 - val_loss: 1.4363 - val_accuracy: 0.5243\n",
            "Epoch 6/20\n",
            "263/263 [==============================] - 1s 4ms/step - loss: 1.3996 - accuracy: 0.5480 - val_loss: 1.3818 - val_accuracy: 0.5523\n",
            "Epoch 7/20\n",
            "263/263 [==============================] - 1s 4ms/step - loss: 1.3516 - accuracy: 0.5640 - val_loss: 1.3287 - val_accuracy: 0.5729\n",
            "Epoch 8/20\n",
            "263/263 [==============================] - 1s 4ms/step - loss: 1.3165 - accuracy: 0.5784 - val_loss: 1.2885 - val_accuracy: 0.5932\n",
            "Epoch 9/20\n",
            "263/263 [==============================] - 1s 4ms/step - loss: 1.2895 - accuracy: 0.5886 - val_loss: 1.2772 - val_accuracy: 0.5955\n",
            "Epoch 10/20\n",
            "263/263 [==============================] - 1s 4ms/step - loss: 1.2745 - accuracy: 0.5942 - val_loss: 1.2660 - val_accuracy: 0.5955\n",
            "Epoch 11/20\n",
            "263/263 [==============================] - 1s 4ms/step - loss: 1.2487 - accuracy: 0.6033 - val_loss: 1.2492 - val_accuracy: 0.6026\n",
            "Epoch 12/20\n",
            "263/263 [==============================] - 1s 4ms/step - loss: 1.2294 - accuracy: 0.6082 - val_loss: 1.2417 - val_accuracy: 0.6046\n",
            "Epoch 13/20\n",
            "263/263 [==============================] - 1s 4ms/step - loss: 1.2184 - accuracy: 0.6148 - val_loss: 1.2159 - val_accuracy: 0.6125\n",
            "Epoch 14/20\n",
            "263/263 [==============================] - 1s 4ms/step - loss: 1.2009 - accuracy: 0.6207 - val_loss: 1.1925 - val_accuracy: 0.6258\n",
            "Epoch 15/20\n",
            "263/263 [==============================] - 1s 4ms/step - loss: 1.1933 - accuracy: 0.6259 - val_loss: 1.2084 - val_accuracy: 0.6175\n",
            "Epoch 16/20\n",
            "263/263 [==============================] - 1s 4ms/step - loss: 1.1856 - accuracy: 0.6261 - val_loss: 1.2106 - val_accuracy: 0.6195\n",
            "Epoch 17/20\n",
            "263/263 [==============================] - 1s 4ms/step - loss: 1.1700 - accuracy: 0.6341 - val_loss: 1.1818 - val_accuracy: 0.6312\n",
            "Epoch 18/20\n",
            "263/263 [==============================] - 1s 4ms/step - loss: 1.1642 - accuracy: 0.6363 - val_loss: 1.1656 - val_accuracy: 0.6342\n",
            "Epoch 19/20\n",
            "263/263 [==============================] - 1s 4ms/step - loss: 1.1564 - accuracy: 0.6375 - val_loss: 1.1547 - val_accuracy: 0.6381\n",
            "Epoch 20/20\n",
            "263/263 [==============================] - 1s 4ms/step - loss: 1.1518 - accuracy: 0.6411 - val_loss: 1.1819 - val_accuracy: 0.6281\n"
          ]
        }
      ],
      "source": [
        "# Fit the model\n",
        "# Fit on the train data with a validation split of 0.2, batch size = 128, verbose = 1, and epochs = 20\n",
        "history_model_1 = model_1.fit(X_train, y_train, validation_split= 0.20 , epochs = 20, batch_size = 128, verbose = 1)"
      ]
    },
    {
      "cell_type": "markdown",
      "source": [
        "- Highest validation accuracy in epoch-19\n",
        "- Indicates it is a better model than at epoch-20"
      ],
      "metadata": {
        "id": "8Klwt8m32fqO"
      }
    },
    {
      "cell_type": "markdown",
      "metadata": {
        "id": "tKOckG-KPyLg"
      },
      "source": [
        "### **Plotting the validation and training accuracies**"
      ]
    },
    {
      "cell_type": "code",
      "execution_count": null,
      "metadata": {
        "colab": {
          "base_uri": "https://localhost:8080/",
          "height": 497
        },
        "id": "lt77zgGMP4yw",
        "outputId": "ea90039d-32b8-4ab2-8b4b-697a68cb6182"
      },
      "outputs": [
        {
          "output_type": "display_data",
          "data": {
            "text/plain": [
              "<Figure size 576x576 with 1 Axes>"
            ],
            "image/png": "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\n"
          },
          "metadata": {
            "needs_background": "light"
          }
        }
      ],
      "source": [
        "# Plotting the accuracies\n",
        "\n",
        "dict_hist = history_model_1.history\n",
        "\n",
        "list_ep = [i for i in range(1, 21)]\n",
        "\n",
        "plt.figure(figsize = (8, 8))\n",
        "\n",
        "plt.plot(list_ep, dict_hist['accuracy'], ls = '--', label = 'accuracy')\n",
        "\n",
        "plt.plot(list_ep, dict_hist['val_accuracy'], ls = '--', label = 'val_accuracy')\n",
        "\n",
        "plt.ylabel('Accuracy')\n",
        "\n",
        "plt.xlabel('Epochs')\n",
        "\n",
        "plt.legend()\n",
        "\n",
        "plt.show()"
      ]
    },
    {
      "cell_type": "markdown",
      "metadata": {
        "id": "pGBbQpLONX7k"
      },
      "source": [
        "**Observations:**\n",
        "- Model at **epoch 19** shows the highest validation accuracy indicating it is the best model \n",
        "  - validation accuracy dips at epoch 20\n",
        "- Accuracy on validation data is nearly identical to the the training data (with the validation accuracy being slightly higher), this indicates it is a **good model** and **not overfitted**. We can say the model is giving a **generalized performance**.\n",
        "  - (train_accuracy: 63.75%, val_accuracy: 63.81%)\n",
        "- The validation accuracy is continuously improving and staying above the training accuracy, this might be because:\n",
        "  - The size of the validation set is not big enough\n",
        "  - May have **imbalanced data** in the validation set\n",
        "  - **High Regularization**(noise present in training that is not present in validation)\n",
        "  - Can solve this by reducing regularizaiton (by introducing dropout layers or L1 & L2) or change validation set\n",
        "- The validation accuracy is starting to show fluctuations indicating the model may not improve much beyond this point, but as the overal **trend is still increasing** it would not be a bad idea to increase the epochs to see if there is a better model. \n"
      ]
    },
    {
      "cell_type": "markdown",
      "metadata": {
        "id": "z0qgLMBZm5-K"
      },
      "source": [
        "Let's build one more model with higher complexity and see if we can improve the performance of the model. \n",
        "\n",
        "First, we need to clear the previous model's history from the Keras backend. Also, let's fix the seed again after clearing the backend."
      ]
    },
    {
      "cell_type": "code",
      "execution_count": null,
      "metadata": {
        "id": "y98BpLxsok_H"
      },
      "outputs": [],
      "source": [
        "# Clearing backend\n",
        "\n",
        "from tensorflow.keras import backend\n",
        "\n",
        "backend.clear_session()"
      ]
    },
    {
      "cell_type": "code",
      "execution_count": null,
      "metadata": {
        "id": "HbKi93HTolGW"
      },
      "outputs": [],
      "source": [
        "# Fixing the seed for random number generators\n",
        "\n",
        "np.random.seed(42)\n",
        "\n",
        "import random\n",
        "\n",
        "random.seed(42)\n",
        "\n",
        "tf.random.set_seed(42)"
      ]
    },
    {
      "cell_type": "markdown",
      "metadata": {
        "id": "lT6o3TIKuCtk"
      },
      "source": [
        "### **Second Model Architecture**\n",
        "- Write a function that returns a sequential model with the following architecture:\n",
        " - First hidden layer with **256 nodes and the relu activation** and the **input shape = (1024, )**\n",
        " - Second hidden layer with **128 nodes and the relu activation**\n",
        " - Add the **Dropout layer with the rate equal to 0.2**\n",
        " - Third hidden layer with **64 nodes and the relu activation**\n",
        " - Fourth hidden layer with **64 nodes and the relu activation**\n",
        " - Fifth hidden layer with **32 nodes and the relu activation**\n",
        " - Add the **BatchNormalization layer**\n",
        " - Output layer with **activation as 'softmax' and number of nodes equal to the number of classes, i.e., 10**\n",
        " -Compile the model with the **loss equal to categorical_crossentropy, optimizer equal to Adam(learning_rate = 0.0005), and metric equal to 'accuracy'**. Do not fit the model here, just return the compiled model.\n",
        "- Call the nn_model_2 function and store the model in a new variable.\n",
        "- Print the summary of the model.\n",
        "- Fit on the train data with a **validation split of 0.2, batch size = 128, verbose = 1, and epochs = 30**. Store the model building history to use later for visualization."
      ]
    },
    {
      "cell_type": "markdown",
      "metadata": {
        "id": "f-ZjNBmH0XIV"
      },
      "source": [
        "### **Build and train the new ANN model as per the above mentioned architecture**"
      ]
    },
    {
      "cell_type": "code",
      "execution_count": null,
      "metadata": {
        "id": "EEPYLFIPnSDP"
      },
      "outputs": [],
      "source": [
        "# Define the model\n",
        "\n",
        "def nn_model_2():\n",
        "\n",
        "    model = Sequential()  \n",
        "    \n",
        "  # Add layers as per the architecture mentioned above in the same sequence\n",
        "    # First hidden layer with 256 nodes and the relu activation and the input shape = (1024, )\n",
        "    model.add(Dense(256, activation='relu', input_shape = (1024, ) ))\n",
        "  \n",
        "    # Second hidden layer with 128 nodes and the relu activation\n",
        "    model.add(Dense(128, activation='relu'))\n",
        "\n",
        "    #Dropout layer with the rate equal to 0.2\n",
        "    model.add(Dropout(0.2))\n",
        "\n",
        "    #Third hidden layer with 64 nodes and the relu activation\n",
        "    model.add(Dense(64, activation='relu'))\n",
        "\n",
        "    #Fourth hidden layer with 64 nodes and the relu activation\n",
        "    model.add(Dense(64, activation='relu'))\n",
        "\n",
        "    #Fifth hidden layer with 32 nodes and the relu activation\n",
        "    model.add(Dense(32, activation='relu'))\n",
        "\n",
        "    # BatchNormalization layer (standarizes inputs into a layer)\n",
        "    model.add(BatchNormalization())\n",
        "\n",
        "    # Output layer with activation as 'softmax' and number of nodes equal to the number of classes (10)\n",
        "    model.add(Dense(10, activation = 'softmax'))\n",
        "    \n",
        "    # Compile the model\n",
        "    # loss equal to categorical_crossentropy, optimizer equal to Adam(learning_rate = 0.0005), and metric equal to 'accuracy'\n",
        "    model.compile(loss= 'categorical_crossentropy', optimizer= Adam(learning_rate=0.0005), metrics=[\"accuracy\"])\n",
        "    \n",
        "    return model"
      ]
    },
    {
      "cell_type": "code",
      "execution_count": null,
      "metadata": {
        "id": "AKjDY4plnSFl"
      },
      "outputs": [],
      "source": [
        "# Build the model\n",
        "\n",
        "model_2 = nn_model_2()"
      ]
    },
    {
      "cell_type": "code",
      "execution_count": null,
      "metadata": {
        "colab": {
          "base_uri": "https://localhost:8080/"
        },
        "id": "gz_6SVrU2swZ",
        "outputId": "decac7e4-a1bf-44cf-d193-8a4b06f30efd"
      },
      "outputs": [
        {
          "output_type": "stream",
          "name": "stdout",
          "text": [
            "Model: \"sequential\"\n",
            "_________________________________________________________________\n",
            " Layer (type)                Output Shape              Param #   \n",
            "=================================================================\n",
            " dense (Dense)               (None, 256)               262400    \n",
            "                                                                 \n",
            " dense_1 (Dense)             (None, 128)               32896     \n",
            "                                                                 \n",
            " dropout (Dropout)           (None, 128)               0         \n",
            "                                                                 \n",
            " dense_2 (Dense)             (None, 64)                8256      \n",
            "                                                                 \n",
            " dense_3 (Dense)             (None, 64)                4160      \n",
            "                                                                 \n",
            " dense_4 (Dense)             (None, 32)                2080      \n",
            "                                                                 \n",
            " batch_normalization (BatchN  (None, 32)               128       \n",
            " ormalization)                                                   \n",
            "                                                                 \n",
            " dense_5 (Dense)             (None, 10)                330       \n",
            "                                                                 \n",
            "=================================================================\n",
            "Total params: 310,250\n",
            "Trainable params: 310,186\n",
            "Non-trainable params: 64\n",
            "_________________________________________________________________\n"
          ]
        }
      ],
      "source": [
        "# Print the model summary\n",
        "model_2.summary()"
      ]
    },
    {
      "cell_type": "code",
      "execution_count": null,
      "metadata": {
        "colab": {
          "base_uri": "https://localhost:8080/"
        },
        "id": "IQ0Sc4R-y-uu",
        "outputId": "9987c997-903f-4e10-c732-e79bc9a8ce75"
      },
      "outputs": [
        {
          "output_type": "stream",
          "name": "stdout",
          "text": [
            "Epoch 1/30\n",
            "263/263 [==============================] - 3s 10ms/step - loss: 2.3396 - accuracy: 0.1093 - val_loss: 2.2799 - val_accuracy: 0.1229\n",
            "Epoch 2/30\n",
            "263/263 [==============================] - 2s 9ms/step - loss: 2.0389 - accuracy: 0.2549 - val_loss: 1.8900 - val_accuracy: 0.3301\n",
            "Epoch 3/30\n",
            "263/263 [==============================] - 2s 9ms/step - loss: 1.6802 - accuracy: 0.4215 - val_loss: 1.5410 - val_accuracy: 0.4811\n",
            "Epoch 4/30\n",
            "263/263 [==============================] - 2s 9ms/step - loss: 1.4470 - accuracy: 0.5120 - val_loss: 1.3688 - val_accuracy: 0.5496\n",
            "Epoch 5/30\n",
            "263/263 [==============================] - 2s 9ms/step - loss: 1.2844 - accuracy: 0.5765 - val_loss: 1.2204 - val_accuracy: 0.5925\n",
            "Epoch 6/30\n",
            "263/263 [==============================] - 2s 9ms/step - loss: 1.2082 - accuracy: 0.6068 - val_loss: 1.1061 - val_accuracy: 0.6449\n",
            "Epoch 7/30\n",
            "263/263 [==============================] - 2s 9ms/step - loss: 1.1380 - accuracy: 0.6344 - val_loss: 1.0601 - val_accuracy: 0.6630\n",
            "Epoch 8/30\n",
            "263/263 [==============================] - 2s 9ms/step - loss: 1.0801 - accuracy: 0.6540 - val_loss: 1.0456 - val_accuracy: 0.6715\n",
            "Epoch 9/30\n",
            "263/263 [==============================] - 2s 9ms/step - loss: 1.0344 - accuracy: 0.6693 - val_loss: 0.9501 - val_accuracy: 0.6980\n",
            "Epoch 10/30\n",
            "263/263 [==============================] - 2s 9ms/step - loss: 0.9953 - accuracy: 0.6829 - val_loss: 0.9560 - val_accuracy: 0.6987\n",
            "Epoch 11/30\n",
            "263/263 [==============================] - 2s 9ms/step - loss: 0.9757 - accuracy: 0.6877 - val_loss: 0.9184 - val_accuracy: 0.7068\n",
            "Epoch 12/30\n",
            "263/263 [==============================] - 2s 9ms/step - loss: 0.9334 - accuracy: 0.7042 - val_loss: 0.8748 - val_accuracy: 0.7204\n",
            "Epoch 13/30\n",
            "263/263 [==============================] - 2s 9ms/step - loss: 0.9273 - accuracy: 0.7062 - val_loss: 0.8745 - val_accuracy: 0.7267\n",
            "Epoch 14/30\n",
            "263/263 [==============================] - 2s 9ms/step - loss: 0.9075 - accuracy: 0.7135 - val_loss: 0.8567 - val_accuracy: 0.7317\n",
            "Epoch 15/30\n",
            "263/263 [==============================] - 2s 9ms/step - loss: 0.8899 - accuracy: 0.7177 - val_loss: 0.9026 - val_accuracy: 0.7101\n",
            "Epoch 16/30\n",
            "263/263 [==============================] - 2s 9ms/step - loss: 0.8711 - accuracy: 0.7231 - val_loss: 0.9080 - val_accuracy: 0.7054\n",
            "Epoch 17/30\n",
            "263/263 [==============================] - 2s 9ms/step - loss: 0.8579 - accuracy: 0.7290 - val_loss: 0.8141 - val_accuracy: 0.7468\n",
            "Epoch 18/30\n",
            "263/263 [==============================] - 2s 8ms/step - loss: 0.8396 - accuracy: 0.7327 - val_loss: 0.8281 - val_accuracy: 0.7371\n",
            "Epoch 19/30\n",
            "263/263 [==============================] - 2s 8ms/step - loss: 0.8326 - accuracy: 0.7345 - val_loss: 0.8744 - val_accuracy: 0.7235\n",
            "Epoch 20/30\n",
            "263/263 [==============================] - 2s 8ms/step - loss: 0.8171 - accuracy: 0.7397 - val_loss: 0.7876 - val_accuracy: 0.7542\n",
            "Epoch 21/30\n",
            "263/263 [==============================] - 2s 9ms/step - loss: 0.8070 - accuracy: 0.7452 - val_loss: 0.8137 - val_accuracy: 0.7455\n",
            "Epoch 22/30\n",
            "263/263 [==============================] - 2s 8ms/step - loss: 0.7948 - accuracy: 0.7482 - val_loss: 0.7808 - val_accuracy: 0.7506\n",
            "Epoch 23/30\n",
            "263/263 [==============================] - 2s 8ms/step - loss: 0.7799 - accuracy: 0.7528 - val_loss: 0.8182 - val_accuracy: 0.7437\n",
            "Epoch 24/30\n",
            "263/263 [==============================] - 2s 9ms/step - loss: 0.7762 - accuracy: 0.7544 - val_loss: 0.7814 - val_accuracy: 0.7551\n",
            "Epoch 25/30\n",
            "263/263 [==============================] - 2s 9ms/step - loss: 0.7688 - accuracy: 0.7552 - val_loss: 0.7536 - val_accuracy: 0.7645\n",
            "Epoch 26/30\n",
            "263/263 [==============================] - 2s 9ms/step - loss: 0.7626 - accuracy: 0.7580 - val_loss: 0.7504 - val_accuracy: 0.7630\n",
            "Epoch 27/30\n",
            "263/263 [==============================] - 2s 9ms/step - loss: 0.7443 - accuracy: 0.7632 - val_loss: 0.7356 - val_accuracy: 0.7721\n",
            "Epoch 28/30\n",
            "263/263 [==============================] - 2s 9ms/step - loss: 0.7365 - accuracy: 0.7663 - val_loss: 0.7580 - val_accuracy: 0.7636\n",
            "Epoch 29/30\n",
            "263/263 [==============================] - 2s 9ms/step - loss: 0.7393 - accuracy: 0.7631 - val_loss: 0.7192 - val_accuracy: 0.7777\n",
            "Epoch 30/30\n",
            "263/263 [==============================] - 2s 9ms/step - loss: 0.7141 - accuracy: 0.7743 - val_loss: 0.7298 - val_accuracy: 0.7721\n"
          ]
        }
      ],
      "source": [
        "# Fit the model\n",
        "# validation split of 0.2, batch size = 128, verbose = 1, and epochs = 30\n",
        "\n",
        "history_model_2 = model_2.fit(X_train, y_train, validation_split = 0.20 , epochs = 30, batch_size = 128, verbose = 1)\n",
        "\n"
      ]
    },
    {
      "cell_type": "markdown",
      "source": [
        "- Highest validation accuracy in epoch-29\n",
        "- Indicates it is a better model than at epoch-30\n",
        "\n"
      ],
      "metadata": {
        "id": "LdKYhJ-dDlhE"
      }
    },
    {
      "cell_type": "markdown",
      "metadata": {
        "id": "6UjEIbPM0XIX"
      },
      "source": [
        "### **Plotting the validation and training accuracies**"
      ]
    },
    {
      "cell_type": "code",
      "execution_count": null,
      "metadata": {
        "colab": {
          "base_uri": "https://localhost:8080/",
          "height": 497
        },
        "id": "01ig6BrF1KVy",
        "outputId": "303c8d42-9d6d-421f-f61d-0b7126c68986"
      },
      "outputs": [
        {
          "output_type": "display_data",
          "data": {
            "text/plain": [
              "<Figure size 576x576 with 1 Axes>"
            ],
            "image/png": "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\n"
          },
          "metadata": {
            "needs_background": "light"
          }
        }
      ],
      "source": [
        "# Plotting the accuracies\n",
        "\n",
        "dict_hist = history_model_2.history\n",
        "\n",
        "list_ep = [i for i in range(1, 31)]\n",
        "\n",
        "plt.figure(figsize = (8, 8))\n",
        "\n",
        "plt.plot(list_ep, dict_hist['accuracy'], ls = '--', label = 'accuracy')\n",
        "\n",
        "plt.plot(list_ep, dict_hist['val_accuracy'], ls = '--', label = 'val_accuracy')\n",
        "\n",
        "plt.ylabel('Accuracy')\n",
        "\n",
        "plt.xlabel('Epochs')\n",
        "\n",
        "plt.legend()\n",
        "\n",
        "plt.show()"
      ]
    },
    {
      "cell_type": "markdown",
      "metadata": {
        "id": "VPW1LlD61RDn"
      },
      "source": [
        "**Observations:**\n",
        "- Model at **epoch 29** shows the highest validation accuracy indicating it is the best model \n",
        "  - validation accuracy dips slightly at epoch 30 therefore we should not use it as our model\n",
        "- Accuracy on validation data is nearly identical to the the training data (with the validation accuracy being slightly higher), this indicates it is a **good model** and **not overfitted**. We can say the model is giving a **generalized performance**.\n",
        "  - (train_accuracy: 76.31%, val_accuracy: 77.77%)\n",
        "- Between model_1 and model_2 validation **accuracy has increased from 63.81% to 77.77%**\n",
        "  - Model_2 was better at 20 epochs indicating while the increase to 30 epochs was helpfull (2% increase in the last 10 epochs) it was not the key improvement\n",
        "  - Likely it was the **increase in overall model complexity** (increased nodes, layers, and optimizers) that led to the improvement.\n",
        "    - Increasing complexity comes with the risk of overfitting but we can see that was not the case here \n",
        "- The validation accuracy is **still** continuously improving and staying above the training accuracy (this was not fully solved with the **addition of a dropout layer**), this might be because:\n",
        "  - The size of the validation set is not big enough \n",
        "  - May have **imbalanced data** in the validation set\n",
        "  - **High Regularization**(noise present in training that is not present in validation)\n",
        "  - Can solve this by reducing regularizaiton (L1,L2) or change validation set\n",
        "- The validation accuracy is starting to show fluctuations indicating the model may not improve much beyond this point, but as the overal **trend is still slightly increasing** it would not be a bad idea to increase the epochs to see if there is a better model. "
      ]
    },
    {
      "cell_type": "markdown",
      "metadata": {
        "id": "8kuXx9Bvu00f"
      },
      "source": [
        "## **Predictions on the test data**\n"
      ]
    },
    {
      "cell_type": "code",
      "execution_count": null,
      "metadata": {
        "id": "xbWMEtTj5Ad0"
      },
      "outputs": [],
      "source": [
        "test_pred = model_2.predict(X_test)\n",
        "\n",
        "test_pred = np.argmax(test_pred, axis = -1)"
      ]
    },
    {
      "cell_type": "markdown",
      "metadata": {
        "id": "i3li8Ib08yts"
      },
      "source": [
        "**Note:** Earlier, we noticed that each entry of the target variable is a one-hot encoded vector but to print the classification report and confusion matrix, we must convert each entry of y_test to a single label."
      ]
    },
    {
      "cell_type": "code",
      "execution_count": null,
      "metadata": {
        "id": "NByu7uAQ8x9P"
      },
      "outputs": [],
      "source": [
        "# Converting each entry to single label from one-hot encoded vector\n",
        "\n",
        "y_test = np.argmax(y_test, axis = -1)"
      ]
    },
    {
      "cell_type": "markdown",
      "metadata": {
        "id": "1_SIoopr0XIg"
      },
      "source": [
        "### **Print the classification report and the confusion matrix for the test predictions.**"
      ]
    },
    {
      "cell_type": "code",
      "execution_count": null,
      "metadata": {
        "colab": {
          "base_uri": "https://localhost:8080/",
          "height": 629
        },
        "id": "xRddeJ-3EHT1",
        "outputId": "8232ca7c-61ab-44d1-f211-4b7d9c175d9d"
      },
      "outputs": [
        {
          "output_type": "stream",
          "name": "stdout",
          "text": [
            "              precision    recall  f1-score   support\n",
            "\n",
            "           0       0.82      0.79      0.81      1814\n",
            "           1       0.69      0.86      0.77      1828\n",
            "           2       0.79      0.81      0.80      1803\n",
            "           3       0.71      0.74      0.72      1719\n",
            "           4       0.86      0.80      0.83      1812\n",
            "           5       0.79      0.73      0.76      1768\n",
            "           6       0.81      0.75      0.78      1832\n",
            "           7       0.78      0.83      0.81      1808\n",
            "           8       0.76      0.70      0.73      1812\n",
            "           9       0.78      0.75      0.77      1804\n",
            "\n",
            "    accuracy                           0.78     18000\n",
            "   macro avg       0.78      0.78      0.78     18000\n",
            "weighted avg       0.78      0.78      0.78     18000\n",
            "\n"
          ]
        },
        {
          "output_type": "display_data",
          "data": {
            "text/plain": [
              "<Figure size 576x360 with 2 Axes>"
            ],
            "image/png": "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\n"
          },
          "metadata": {
            "needs_background": "light"
          }
        }
      ],
      "source": [
        "# Importing required functions\n",
        "\n",
        "from sklearn.metrics import classification_report\n",
        "\n",
        "from sklearn.metrics import confusion_matrix\n",
        "\n",
        "# Printing the classification report\n",
        "\n",
        "print(classification_report(y_test, test_pred))\n",
        "\n",
        "# Plotting the heatmap using confusion matrix\n",
        "#Write the code for creating confusion matrix using actual labels (y_test) and predicted labels (test_pred)\n",
        "cm = confusion_matrix([int(x) for x in y_test], test_pred)     \n",
        "\n",
        "plt.figure(figsize = (8, 5))\n",
        "\n",
        "sns.heatmap(cm, annot = True,  fmt = '.0f')\n",
        "\n",
        "plt.ylabel('Actual')\n",
        "\n",
        "plt.xlabel('Predicted')\n",
        "\n",
        "plt.show()"
      ]
    },
    {
      "cell_type": "markdown",
      "metadata": {
        "id": "DjErl4GA2u9s"
      },
      "source": [
        "**Final Observations:**\n",
        "- The model is giving about **78% accuracy** on the test data which is in line to the accuracy of the validation data. This implies that the model is giving a **generalized performance**.\n",
        "- The model was better at predicting some numbers cathegories over others. Some highlights:\n",
        "  - Model did perticularly well prediciting 4 (86% accuracy)\n",
        "    - Likely because it is a unique shape\n",
        "  - Model did perticularly poorly predicting 1 (69% accuracy)\n",
        "  - High confusion between predicting 5 as 3 and 3 as 5\n",
        "      - Likely because 5 and 3 are similar in shape\n",
        "  - Confusion predicting 2 as 7 and 6 as 8 \n",
        "      - Perhaps cutting of the bottom of some 2's\n",
        "      - likely because 6 and 8 are similar in shape \n",
        "      - Interesting that 6-8 are more similar in shape than 5-3 suggesting that there is perhaps another factor leading to 5-3 confusion\n",
        "- To improve the model futher we could:\n",
        "  - Increase the complexity further but risk overfitting\n",
        "  - Try and optimize the model architecture to target the specific confusion points highlighted above\n",
        "  - Move from a Artificial Neural Network to a Convolutional Neural Network that is better at predicting images "
      ]
    },
    {
      "cell_type": "code",
      "source": [],
      "metadata": {
        "id": "8mYRoo85XpOZ"
      },
      "execution_count": null,
      "outputs": []
    }
  ],
  "metadata": {
    "accelerator": "GPU",
    "colab": {
      "collapsed_sections": [],
      "provenance": [],
      "include_colab_link": true
    },
    "kernelspec": {
      "display_name": "Python 3 (ipykernel)",
      "language": "python",
      "name": "python3"
    },
    "language_info": {
      "codemirror_mode": {
        "name": "ipython",
        "version": 3
      },
      "file_extension": ".py",
      "mimetype": "text/x-python",
      "name": "python",
      "nbconvert_exporter": "python",
      "pygments_lexer": "ipython3",
      "version": "3.9.7"
    }
  },
  "nbformat": 4,
  "nbformat_minor": 0
}
