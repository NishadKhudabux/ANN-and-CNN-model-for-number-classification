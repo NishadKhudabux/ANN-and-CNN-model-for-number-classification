{
  "cells": [
    {
      "cell_type": "markdown",
      "metadata": {
        "id": "view-in-github",
        "colab_type": "text"
      },
      "source": [
        "<a href=\"https://colab.research.google.com/github/NishadKhudabux/ANN-and-CNN-model-for-number-classification/blob/main/CNN_NumberClassification_Notebook_GH.ipynb\" target=\"_parent\"><img src=\"https://colab.research.google.com/assets/colab-badge.svg\" alt=\"Open In Colab\"/></a>"
      ]
    },
    {
      "cell_type": "markdown",
      "metadata": {
        "id": "Q91KqmCRu64D"
      },
      "source": [
        "# **Convolutional Neural Networks: Street View Housing Number Digit Recognition**\n",
        "\n",
        "Classification of Street View Housing Numbers (SVHN) image dataset using Convolutional Neural Networks.\n",
        "\n",
        "--------------\n",
        "## **Context** \n",
        "--------------\n",
        "The SVHN dataset contains over 600,000 labeled digits cropped from street-level photos. It is one of the most popular image recognition datasets. It has been used in neural networks created by Google to improve the map quality by automatically transcribing the address numbers from a patch of pixels. The transcribed number with a known street address helps pinpoint the location of the building it represents. \n",
        "\n",
        "----------------\n",
        "## **Objective**\n",
        "----------------\n",
        "\n",
        "To build a CNN model that can recognize the digits in the images.\n",
        "\n",
        "-------------\n",
        "## **Dataset**\n",
        "-------------\n",
        "Here, we will use a subset of the original data to save some computation time. The dataset is provided as a .h5 file. The basic preprocessing steps have been applied on the dataset."
      ]
    },
    {
      "cell_type": "markdown",
      "metadata": {
        "id": "8z2Z7-OAs8QG"
      },
      "source": [
        "## **Mount the drive**\n"
      ]
    },
    {
      "cell_type": "code",
      "execution_count": null,
      "metadata": {
        "colab": {
          "base_uri": "https://localhost:8080/"
        },
        "id": "03lDyQUuef7z",
        "outputId": "e23a8362-447e-4364-8a0e-1983efc593a5"
      },
      "outputs": [
        {
          "output_type": "stream",
          "name": "stdout",
          "text": [
            "Mounted at /content/drive\n"
          ]
        }
      ],
      "source": [
        "from google.colab import drive\n",
        "\n",
        "drive.mount('/content/drive')"
      ]
    },
    {
      "cell_type": "markdown",
      "metadata": {
        "id": "C8U3DUa3eNsT"
      },
      "source": [
        "## **Importing the necessary libraries**"
      ]
    },
    {
      "cell_type": "code",
      "execution_count": null,
      "metadata": {
        "id": "-dVzeuF3eQx1"
      },
      "outputs": [],
      "source": [
        "import numpy as np\n",
        "\n",
        "import pandas as pd\n",
        "\n",
        "import matplotlib.pyplot as plt\n",
        "\n",
        "#Data Visualization\n",
        "\n",
        "import seaborn as sns\n",
        "\n",
        "# Model Building\n",
        "\n",
        "from sklearn.model_selection import train_test_split\n",
        "\n",
        "from sklearn.preprocessing import MinMaxScaler\n",
        "\n",
        "import tensorflow as tf\n",
        "\n",
        "from tensorflow.keras.models import Sequential\n",
        "\n",
        "from tensorflow.keras.layers import Dense, Conv2D, MaxPool2D, BatchNormalization, Dropout, Flatten, LeakyReLU\n",
        "\n",
        "from tensorflow.keras.losses import categorical_crossentropy\n",
        "\n",
        "from tensorflow.keras.optimizers import Adam\n",
        "\n",
        "from tensorflow.keras.utils import to_categorical"
      ]
    },
    {
      "cell_type": "markdown",
      "metadata": {
        "id": "ucnevGLoyKf_"
      },
      "source": [
        "**Let us check the version of tensorflow.**"
      ]
    },
    {
      "cell_type": "code",
      "execution_count": null,
      "metadata": {
        "colab": {
          "base_uri": "https://localhost:8080/"
        },
        "id": "W5as47YxyJVk",
        "outputId": "affc9285-8334-4afc-ce90-8264c620c182"
      },
      "outputs": [
        {
          "output_type": "stream",
          "name": "stdout",
          "text": [
            "2.8.2\n"
          ]
        }
      ],
      "source": [
        "print(tf.__version__)"
      ]
    },
    {
      "cell_type": "markdown",
      "metadata": {
        "id": "8lsux2ZwyTTR"
      },
      "source": [
        "## **Load the dataset**\n",
        "\n",
        "- Load the dataset that is available as a .h5 file.\n",
        "- Split the data into the train and the test dataset."
      ]
    },
    {
      "cell_type": "code",
      "execution_count": null,
      "metadata": {
        "id": "BApX9qgNsqV0",
        "scrolled": true
      },
      "outputs": [],
      "source": [
        "import h5py\n",
        "\n",
        "# Open the file as read only\n",
        "# User can make changes in the path as required\n",
        "\n",
        "h5f = h5py.File('/content/drive/MyDrive/Colab Notebooks/MIT-Deep Learning/Elective Project/SVHN_single_grey1.h5', 'r') #change for my drive folders\n",
        "\n",
        "# Load the the train and the test dataset\n",
        "\n",
        "X_train = h5f['X_train'][:]\n",
        "\n",
        "y_train = h5f['y_train'][:]\n",
        "\n",
        "X_test = h5f['X_test'][:]\n",
        "\n",
        "y_test = h5f['y_test'][:]\n",
        "\n",
        "\n",
        "# Close this file\n",
        "\n",
        "h5f.close()"
      ]
    },
    {
      "cell_type": "markdown",
      "metadata": {
        "id": "hVe0CYpUgj7w"
      },
      "source": [
        "Let's check the number of images in the training and the testing dataset."
      ]
    },
    {
      "cell_type": "code",
      "execution_count": null,
      "metadata": {
        "colab": {
          "base_uri": "https://localhost:8080/"
        },
        "id": "y3lwKpOefkpA",
        "outputId": "94477c66-545a-4473-bd8e-1a32ec4512a8"
      },
      "outputs": [
        {
          "output_type": "execute_result",
          "data": {
            "text/plain": [
              "(42000, 18000)"
            ]
          },
          "metadata": {},
          "execution_count": 5
        }
      ],
      "source": [
        "len(X_train), len(X_test)"
      ]
    },
    {
      "cell_type": "markdown",
      "metadata": {
        "id": "akTUOfLlgwoM"
      },
      "source": [
        "**Observation:**\n",
        "- There are 42,000 images in the training data and 18,000 images in the testing data. "
      ]
    },
    {
      "cell_type": "markdown",
      "metadata": {
        "id": "kxODV6HKykuc"
      },
      "source": [
        "## **Visualizing images**\n",
        "\n",
        "- Use X_train to visualize the first 10 images.\n",
        "- Use Y_train to print the first 10 labels."
      ]
    },
    {
      "cell_type": "code",
      "execution_count": null,
      "metadata": {
        "colab": {
          "base_uri": "https://localhost:8080/",
          "height": 95
        },
        "id": "Bvsc8ytHsqWD",
        "outputId": "c9fc06bb-625d-4ead-b7d4-518f530485ac"
      },
      "outputs": [
        {
          "output_type": "display_data",
          "data": {
            "text/plain": [
              "<Figure size 720x72 with 10 Axes>"
            ],
            "image/png": "[encoded data removed]"
          },
          "metadata": {
            "needs_background": "light"
          }
        },
        {
          "output_type": "stream",
          "name": "stdout",
          "text": [
            "label for each of the above image: [2 6 7 4 4 0 3 0 7 3]\n"
          ]
        }
      ],
      "source": [
        "# Visualizing the first 10 images in the dataset and printing their labels\n",
        "\n",
        "%matplotlib inline\n",
        "\n",
        "import matplotlib.pyplot as plt\n",
        "\n",
        "plt.figure(figsize = (10, 1))\n",
        "\n",
        "for i in range(10):\n",
        "\n",
        "    plt.subplot(1, 10, i+1)\n",
        "    \n",
        "    plt.imshow(X_train[i], cmap = \"gray\")  # Write the function to visualize images\n",
        "\n",
        "    plt.axis('off')\n",
        "\n",
        "plt.show()\n",
        "\n",
        "print('label for each of the above image: %s' % (y_train[0:10]))"
      ]
    },
    {
      "cell_type": "markdown",
      "metadata": {
        "id": "kzoyeXHOy80N"
      },
      "source": [
        "*italicized text*## **Data preparation**\n",
        "\n",
        "- Print the shape and the array of pixels for the first image in the training dataset.\n",
        "- Reshape the train and the test dataset because we always have to give a 4D array as input to CNNs.\n",
        "- Normalize the train and the test dataset by dividing by 255.\n",
        "- Print the new shapes of the train and the test dataset.\n",
        "- One-hot encode the target variable."
      ]
    },
    {
      "cell_type": "code",
      "execution_count": null,
      "metadata": {
        "colab": {
          "base_uri": "https://localhost:8080/"
        },
        "id": "NqndzQXng9rL",
        "outputId": "93f7475b-d035-4a24-d001-7d802b9bab09"
      },
      "outputs": [
        {
          "output_type": "stream",
          "name": "stdout",
          "text": [
            "Shape: (32, 32)\n",
            "\n",
            "First image:\n",
            " [[ 33.0704  30.2601  26.852  ...  71.4471  58.2204  42.9939]\n",
            " [ 25.2283  25.5533  29.9765 ... 113.0209 103.3639  84.2949]\n",
            " [ 26.2775  22.6137  40.4763 ... 113.3028 121.775  115.4228]\n",
            " ...\n",
            " [ 28.5502  36.212   45.0801 ...  24.1359  25.0927  26.0603]\n",
            " [ 38.4352  26.4733  23.2717 ...  28.1094  29.4683  30.0661]\n",
            " [ 50.2984  26.0773  24.0389 ...  49.6682  50.853   53.0377]]\n"
          ]
        }
      ],
      "source": [
        "# Shape and the array of pixels for the first image\n",
        "\n",
        "print(\"Shape:\", X_train[0].shape)\n",
        "\n",
        "print()\n",
        "\n",
        "print(\"First image:\\n\", X_train[0])"
      ]
    },
    {
      "cell_type": "code",
      "execution_count": null,
      "metadata": {
        "id": "D9YPwf9ysqWU"
      },
      "outputs": [],
      "source": [
        "# Reshaping the dataset to be able to pass them to CNNs. Remember that we always have to give a 4D array as input to CNNs\n",
        "\n",
        "X_train = X_train.reshape(X_train.shape[0], 32, 32, 1)\n",
        "\n",
        "X_test = X_test.reshape(X_test.shape[0], 32, 32, 1)"
      ]
    },
    {
      "cell_type": "code",
      "execution_count": null,
      "metadata": {
        "id": "q_yUUTp_mUzB"
      },
      "outputs": [],
      "source": [
        "# Normalize inputs from 0-255 to 0-1\n",
        "\n",
        "X_train = X_train / 255.0\n",
        "\n",
        "X_test = X_test / 255.0"
      ]
    },
    {
      "cell_type": "code",
      "execution_count": null,
      "metadata": {
        "colab": {
          "base_uri": "https://localhost:8080/"
        },
        "id": "t7FSqOpamWkH",
        "outputId": "11c4801d-2bf4-4b96-8736-3ef4cd0040e8"
      },
      "outputs": [
        {
          "output_type": "stream",
          "name": "stdout",
          "text": [
            "Training set: (42000, 32, 32, 1) (42000,)\n",
            "Test set: (18000, 32, 32, 1) (18000,)\n"
          ]
        }
      ],
      "source": [
        "# New shape \n",
        "\n",
        "print('Training set:', X_train.shape, y_train.shape)\n",
        "\n",
        "print('Test set:', X_test.shape, y_test.shape)"
      ]
    },
    {
      "cell_type": "markdown",
      "metadata": {
        "id": "10QaOV-xR7Jn"
      },
      "source": [
        "### **One-hot encode the labels in the target variable y_train and y_test.**"
      ]
    },
    {
      "cell_type": "code",
      "execution_count": null,
      "metadata": {
        "colab": {
          "base_uri": "https://localhost:8080/"
        },
        "id": "zL0lYER4sqWw",
        "outputId": "2716f0cd-5aa5-4ec6-ef8b-267a8a82b242"
      },
      "outputs": [
        {
          "output_type": "execute_result",
          "data": {
            "text/plain": [
              "array([[0., 1., 0., ..., 0., 0., 0.],\n",
              "       [0., 0., 0., ..., 1., 0., 0.],\n",
              "       [0., 0., 1., ..., 0., 0., 0.],\n",
              "       ...,\n",
              "       [0., 0., 0., ..., 1., 0., 0.],\n",
              "       [0., 0., 0., ..., 0., 0., 1.],\n",
              "       [0., 0., 1., ..., 0., 0., 0.]], dtype=float32)"
            ]
          },
          "metadata": {},
          "execution_count": 11
        }
      ],
      "source": [
        "# Write the function and appropriate variable name to one-hot encode the output\n",
        "\n",
        "y_train = to_categorical(y_train)\n",
        "\n",
        "y_test = to_categorical(y_test)\n",
        "\n",
        "# test labels\n",
        "\n",
        "y_test"
      ]
    },
    {
      "cell_type": "markdown",
      "metadata": {
        "id": "ViqPOTquCF76"
      },
      "source": [
        "**Observation:**\n",
        "- Each entry of the target variable is a one-hot encoded vector instead of a single label."
      ]
    },
    {
      "cell_type": "markdown",
      "metadata": {
        "id": "yH-gVrzuByNA"
      },
      "source": [
        "## **Model Building**\n",
        "\n",
        "Now that we have done data preprocessing, let's build a CNN model."
      ]
    },
    {
      "cell_type": "code",
      "execution_count": null,
      "metadata": {
        "id": "ZY5pyF4-KDNt"
      },
      "outputs": [],
      "source": [
        "# Fixing the seed for random number generators\n",
        "\n",
        "np.random.seed(42)\n",
        "\n",
        "import random\n",
        "\n",
        "random.seed(42)\n",
        "\n",
        "tf.random.set_seed(42)"
      ]
    },
    {
      "cell_type": "markdown",
      "metadata": {
        "id": "UJDUoaEj1d6e"
      },
      "source": [
        "### **Model Architecture**\n",
        "- **Write a function** that returns a sequential model with the following architecture:\n",
        " - First Convolutional layer with **16 filters and the kernel size of 3x3**. Use the **'same' padding** and provide the **input shape = (32, 32, 1)**\n",
        " - Add a **LeakyRelu layer** with the **slope equal to 0.1**\n",
        " - Second Convolutional layer with **32 filters and the kernel size of 3x3 with 'same' padding**\n",
        " - Another **LeakyRelu** with the **slope equal to 0.1**\n",
        " - A **max-pooling layer** with a **pool size of 2x2**\n",
        " - **Flatten** the output from the previous layer\n",
        " - Add a **dense layer with 32 nodes**\n",
        " - Add a **LeakyRelu layer with the slope equal to 0.1**\n",
        " - Add the final **output layer with nodes equal to the number of classes, i.e., 10** and **'softmax' as the activation function**\n",
        " - Compile the model with the **loss equal to categorical_crossentropy, optimizer equal to Adam(learning_rate = 0.001), and metric equal to 'accuracy'**. Do not fit the model here, just return the compiled model.\n",
        "- Call the function cnn_model_1 and store the output in a new variable.\n",
        "- Print the summary of the model.\n",
        "- Fit the model on the training data with a **validation split of 0.2, batch size = 32, verbose = 1, and epochs = 20**. Store the model building history to use later for visualization."
      ]
    },
    {
      "cell_type": "markdown",
      "metadata": {
        "id": "JWsAd45JKDNu"
      },
      "source": [
        "### **Build and train a CNN model as per the above mentioned architecture.**"
      ]
    },
    {
      "cell_type": "code",
      "execution_count": null,
      "metadata": {
        "id": "Cmi81Gr5sqW-"
      },
      "outputs": [],
      "source": [
        "# Define the model\n",
        "\n",
        "def cnn_model_1():\n",
        "\n",
        "    model = Sequential() \n",
        "    \n",
        "    # Add layers as per the architecture mentioned above in the same sequence\n",
        "\n",
        "    # First Convolutional layer with 16 filters and the kernel size of 3x3. Use the 'same' padding and provide the input shape = (32, 32, 1)\n",
        "    model.add(Conv2D(16, (3,3), padding = \"same\", input_shape = (32,32,1)))\n",
        "\n",
        "    #LeakyRelu layer with the slope equal to 0.1 (LeakyRelu: allows for small negative values when less than 0 to prevent gradient death)\n",
        "    model.add(LeakyReLU(0.1))\n",
        "\n",
        "    #Second Convolutional layer with 32 filters and the kernel size of 3x3 with 'same' padding\n",
        "    model.add(Conv2D(32, (3,3), padding = \"same\"))\n",
        "\n",
        "    #LeakyRelu with the slope equal to 0.1\n",
        "    model.add(LeakyReLU(0.1))\n",
        "\n",
        "    #max-pooling layer with a pool size of 2x2\n",
        "    model.add(MaxPool2D(2,2))\n",
        "\n",
        "    #Flatten \n",
        "    model.add(Flatten())\n",
        "\n",
        "    #dense layer with 32 nodes\n",
        "    model.add(Dense(32))\n",
        "\n",
        "    #LeakyRelu layer with the slope equal to 0.1\n",
        "    model.add(LeakyReLU(0.1))\n",
        "\n",
        "    #output layer with nodes equal to the number of classes, i.e., 10 and 'softmax' as the activation function\n",
        "    model.add(Dense(10, activation='softmax'))\n",
        "    \n",
        "    # Compile the model\n",
        "    #  loss equal to categorical_crossentropy, optimizer equal to Adam(learning_rate = 0.001), and metric equal to 'accuracy'\n",
        "    model.compile(optimizer = Adam(learning_rate =0.001), loss = 'categorical_crossentropy', metrics = ['accuracy'])\n",
        "    \n",
        "    return model"
      ]
    },
    {
      "cell_type": "code",
      "execution_count": null,
      "metadata": {
        "id": "bGCUI_xsImnH"
      },
      "outputs": [],
      "source": [
        "# Build the model\n",
        "\n",
        "model_1 = cnn_model_1()"
      ]
    },
    {
      "cell_type": "code",
      "execution_count": null,
      "metadata": {
        "colab": {
          "base_uri": "https://localhost:8080/"
        },
        "id": "ckJsLdmdQadZ",
        "outputId": "783dd717-2a1a-4184-f14e-0c25ca649fb8"
      },
      "outputs": [
        {
          "output_type": "stream",
          "name": "stdout",
          "text": [
            "Model: \"sequential\"\n",
            "_________________________________________________________________\n",
            " Layer (type)                Output Shape              Param #   \n",
            "=================================================================\n",
            " conv2d (Conv2D)             (None, 32, 32, 16)        160       \n",
            "                                                                 \n",
            " leaky_re_lu (LeakyReLU)     (None, 32, 32, 16)        0         \n",
            "                                                                 \n",
            " conv2d_1 (Conv2D)           (None, 32, 32, 32)        4640      \n",
            "                                                                 \n",
            " leaky_re_lu_1 (LeakyReLU)   (None, 32, 32, 32)        0         \n",
            "                                                                 \n",
            " max_pooling2d (MaxPooling2D  (None, 16, 16, 32)       0         \n",
            " )                                                               \n",
            "                                                                 \n",
            " flatten (Flatten)           (None, 8192)              0         \n",
            "                                                                 \n",
            " dense (Dense)               (None, 32)                262176    \n",
            "                                                                 \n",
            " leaky_re_lu_2 (LeakyReLU)   (None, 32)                0         \n",
            "                                                                 \n",
            " dense_1 (Dense)             (None, 10)                330       \n",
            "                                                                 \n",
            "=================================================================\n",
            "Total params: 267,306\n",
            "Trainable params: 267,306\n",
            "Non-trainable params: 0\n",
            "_________________________________________________________________\n"
          ]
        }
      ],
      "source": [
        "# Print the model summary\n",
        "\n",
        "model_1.summary()"
      ]
    },
    {
      "cell_type": "code",
      "execution_count": null,
      "metadata": {
        "colab": {
          "base_uri": "https://localhost:8080/"
        },
        "id": "3Fy3Dif_zcCk",
        "outputId": "cebaca30-b1a4-4f6a-efb9-411f90c482ed"
      },
      "outputs": [
        {
          "output_type": "stream",
          "name": "stdout",
          "text": [
            "Epoch 1/20\n",
            "1050/1050 [==============================] - 16s 4ms/step - loss: 1.2073 - accuracy: 0.5993 - val_loss: 0.6444 - val_accuracy: 0.8129\n",
            "Epoch 2/20\n",
            "1050/1050 [==============================] - 4s 4ms/step - loss: 0.5316 - accuracy: 0.8473 - val_loss: 0.5168 - val_accuracy: 0.8551\n",
            "Epoch 3/20\n",
            "1050/1050 [==============================] - 6s 5ms/step - loss: 0.4376 - accuracy: 0.8724 - val_loss: 0.4977 - val_accuracy: 0.8599\n",
            "Epoch 4/20\n",
            "1050/1050 [==============================] - 4s 4ms/step - loss: 0.3801 - accuracy: 0.8887 - val_loss: 0.4459 - val_accuracy: 0.8769\n",
            "Epoch 5/20\n",
            "1050/1050 [==============================] - 5s 5ms/step - loss: 0.3381 - accuracy: 0.8985 - val_loss: 0.4701 - val_accuracy: 0.8715\n",
            "Epoch 6/20\n",
            "1050/1050 [==============================] - 4s 4ms/step - loss: 0.2965 - accuracy: 0.9122 - val_loss: 0.4617 - val_accuracy: 0.8752\n",
            "Epoch 7/20\n",
            "1050/1050 [==============================] - 4s 4ms/step - loss: 0.2702 - accuracy: 0.9193 - val_loss: 0.4500 - val_accuracy: 0.8795\n",
            "Epoch 8/20\n",
            "1050/1050 [==============================] - 4s 4ms/step - loss: 0.2374 - accuracy: 0.9275 - val_loss: 0.4931 - val_accuracy: 0.8692\n",
            "Epoch 9/20\n",
            "1050/1050 [==============================] - 4s 4ms/step - loss: 0.2149 - accuracy: 0.9344 - val_loss: 0.4899 - val_accuracy: 0.8764\n",
            "Epoch 10/20\n",
            "1050/1050 [==============================] - 4s 4ms/step - loss: 0.1905 - accuracy: 0.9402 - val_loss: 0.5054 - val_accuracy: 0.8793\n",
            "Epoch 11/20\n",
            "1050/1050 [==============================] - 4s 4ms/step - loss: 0.1729 - accuracy: 0.9461 - val_loss: 0.5650 - val_accuracy: 0.8699\n",
            "Epoch 12/20\n",
            "1050/1050 [==============================] - 4s 4ms/step - loss: 0.1520 - accuracy: 0.9518 - val_loss: 0.5970 - val_accuracy: 0.8663\n",
            "Epoch 13/20\n",
            "1050/1050 [==============================] - 4s 4ms/step - loss: 0.1396 - accuracy: 0.9563 - val_loss: 0.6082 - val_accuracy: 0.8662\n",
            "Epoch 14/20\n",
            "1050/1050 [==============================] - 4s 4ms/step - loss: 0.1282 - accuracy: 0.9600 - val_loss: 0.6289 - val_accuracy: 0.8676\n",
            "Epoch 15/20\n",
            "1050/1050 [==============================] - 4s 4ms/step - loss: 0.1126 - accuracy: 0.9648 - val_loss: 0.6613 - val_accuracy: 0.8689\n",
            "Epoch 16/20\n",
            "1050/1050 [==============================] - 4s 4ms/step - loss: 0.1015 - accuracy: 0.9674 - val_loss: 0.6883 - val_accuracy: 0.8696\n",
            "Epoch 17/20\n",
            "1050/1050 [==============================] - 4s 4ms/step - loss: 0.0905 - accuracy: 0.9711 - val_loss: 0.7399 - val_accuracy: 0.8701\n",
            "Epoch 18/20\n",
            "1050/1050 [==============================] - 4s 4ms/step - loss: 0.0912 - accuracy: 0.9704 - val_loss: 0.7538 - val_accuracy: 0.8695\n",
            "Epoch 19/20\n",
            "1050/1050 [==============================] - 4s 4ms/step - loss: 0.0775 - accuracy: 0.9743 - val_loss: 0.7848 - val_accuracy: 0.8680\n",
            "Epoch 20/20\n",
            "1050/1050 [==============================] - 4s 4ms/step - loss: 0.0677 - accuracy: 0.9778 - val_loss: 0.8533 - val_accuracy: 0.8664\n"
          ]
        }
      ],
      "source": [
        "# Fit the model\n",
        "# validation split of 0.2, batch size = 32, verbose = 1, and epochs = 20\n",
        "\n",
        "history_model_1 = model_1.fit(X_train, y_train, validation_split= 0.20 , epochs = 20, batch_size = 32, verbose = 1)"
      ]
    },
    {
      "cell_type": "markdown",
      "metadata": {
        "id": "tKOckG-KPyLg"
      },
      "source": [
        "### **Plotting the validation and training accuracies**"
      ]
    },
    {
      "cell_type": "code",
      "execution_count": null,
      "metadata": {
        "colab": {
          "base_uri": "https://localhost:8080/",
          "height": 497
        },
        "id": "lt77zgGMP4yw",
        "outputId": "c506a37e-1c9f-436e-8671-89c9c7214ea2"
      },
      "outputs": [
        {
          "output_type": "display_data",
          "data": {
            "text/plain": [
              "<Figure size 576x576 with 1 Axes>"
            ],
            "image/png": "[encoded data removed]"
          },
          "metadata": {
            "needs_background": "light"
          }
        }
      ],
      "source": [
        "# Plotting the accuracies\n",
        "\n",
        "dict_hist = history_model_1.history\n",
        "\n",
        "list_ep = [i for i in range(1, 21)]\n",
        "\n",
        "plt.figure(figsize = (8, 8))\n",
        "\n",
        "plt.plot(list_ep, dict_hist['accuracy'], ls = '--', label = 'accuracy')\n",
        "\n",
        "plt.plot(list_ep, dict_hist['val_accuracy'], ls = '--', label = 'val_accuracy')\n",
        "\n",
        "plt.ylabel('Accuracy')\n",
        "\n",
        "plt.xlabel('Epochs')\n",
        "\n",
        "plt.legend()\n",
        "\n",
        "plt.show()"
      ]
    },
    {
      "cell_type": "markdown",
      "metadata": {
        "id": "pGBbQpLONX7k"
      },
      "source": [
        "**Observations:**\n",
        "- As seen on the above plot the model did **poorly on the validation data** and very well on the training data. This indicates the model is **highly overfitted**. \n",
        "- Validation accuracy became more or less **stagnant after 4 epochs**. \n",
        "- Need to reduce overfitting with some form of **regularization** (dropout layers, L1 & L2)"
      ]
    },
    {
      "cell_type": "markdown",
      "metadata": {
        "id": "z0qgLMBZm5-K"
      },
      "source": [
        "Let's build another model and see if we can get a better model with generalized performance.\n",
        "\n",
        "First, we need to clear the previous model's history from the Keras backend. Also, let's fix the seed again after clearing the backend."
      ]
    },
    {
      "cell_type": "code",
      "execution_count": null,
      "metadata": {
        "id": "y98BpLxsok_H"
      },
      "outputs": [],
      "source": [
        "# Clearing backend\n",
        "\n",
        "from tensorflow.keras import backend\n",
        "\n",
        "backend.clear_session()"
      ]
    },
    {
      "cell_type": "code",
      "execution_count": null,
      "metadata": {
        "id": "HbKi93HTolGW"
      },
      "outputs": [],
      "source": [
        "# Fixing the seed for random number generators\n",
        "\n",
        "np.random.seed(42)\n",
        "\n",
        "import random\n",
        "\n",
        "random.seed(42)\n",
        "\n",
        "tf.random.set_seed(42)"
      ]
    },
    {
      "cell_type": "markdown",
      "metadata": {
        "id": "lT6o3TIKuCtk"
      },
      "source": [
        "### **Second Model Architecture**\n",
        "\n",
        "- Write a function that returns a sequential model with the following architecture:\n",
        " - First Convolutional layer with **16 filters and the kernel size of 3x3**. Use the **'same' padding** and provide the **input shape = (32, 32, 1)**\n",
        " - Add a **LeakyRelu layer** with the **slope equal to 0.1**\n",
        " - Second Convolutional layer with **32 filters and the kernel size of 3x3 with 'same' padding**\n",
        " - Add **LeakyRelu** with the **slope equal to 0.1**\n",
        " - Add a **max-pooling layer** with a **pool size of 2x2**\n",
        " - Add a **BatchNormalization layer**\n",
        " - Third Convolutional layer with **32 filters and the kernel size of 3x3 with 'same' padding**\n",
        " - Add a **LeakyRelu layer with the slope equal to 0.1**\n",
        " - Fourth Convolutional layer **64 filters and the kernel size of 3x3 with 'same' padding** \n",
        " - Add a **LeakyRelu layer with the slope equal to 0.1**\n",
        " - Add a **max-pooling layer** with a **pool size of 2x2**\n",
        " - Add a **BatchNormalization layer**\n",
        " - **Flatten** the output from the previous layer\n",
        " - Add a **dense layer with 32 nodes**\n",
        " - Add a **LeakyRelu layer with the slope equal to 0.1**\n",
        " - Add a **dropout layer with the rate equal to 0.5**\n",
        " - Add the final **output layer with nodes equal to the number of classes, i.e., 10** and **'softmax' as the activation function**\n",
        " - Compile the model with the **categorical_crossentropy loss, adam optimizers (learning_rate = 0.001), and metric equal to 'accuracy'**. Do not fit the model here, just return the compiled model.\n",
        "- Call the function cnn_model_2 and store the model in a new variable.\n",
        "- Print the summary of the model.\n",
        "- Fit the model on the train data with a **validation split of 0.2, batch size = 128, verbose = 1, and epochs = 30**. Store the model building history to use later for visualization."
      ]
    },
    {
      "cell_type": "markdown",
      "metadata": {
        "id": "y5IBLS1eKDNy"
      },
      "source": [
        "### **Build and train the second CNN model as per the above mentioned architecture.**"
      ]
    },
    {
      "cell_type": "code",
      "execution_count": null,
      "metadata": {
        "id": "EEPYLFIPnSDP"
      },
      "outputs": [],
      "source": [
        "# Define the model\n",
        "\n",
        "def cnn_model_2():\n",
        "    \n",
        "    model = Sequential()\n",
        "    \n",
        "    # Add layers as per the architecture mentioned above in the same sequence\n",
        "    #First Convolutional layer with 16 filters and the kernel size of 3x3. Use the 'same' padding and provide the input shape = (32, 32, 1)\n",
        "    model.add(Conv2D(16, (3,3), padding = \"same\", input_shape = (32,32,1)))\n",
        "\n",
        "    #Add a LeakyRelu layer with the slope equal to 0.1\n",
        "    model.add(LeakyReLU(0.1))\n",
        "\n",
        "    #Second Convolutional layer with 32 filters and the kernel size of 3x3 with 'same' padding\n",
        "    model.add(Conv2D(32, (3,3), padding = \"same\"))\n",
        "\n",
        "    #Add LeakyRelu with the slope equal to 0.1\n",
        "    model.add(LeakyReLU(0.1))\n",
        "\n",
        "    #Add a max-pooling layer with a pool size of 2x2\n",
        "    model.add(MaxPool2D(2,2))\n",
        "\n",
        "    #Add a BatchNormalization layer\n",
        "    model.add(BatchNormalization())\n",
        "\n",
        "    #Third Convolutional layer with 32 filters and the kernel size of 3x3 with 'same' padding\n",
        "    model.add(Conv2D(32, (3,3), padding = \"same\"))\n",
        "\n",
        "    #Add a LeakyRelu layer with the slope equal to 0.1\n",
        "    model.add(LeakyReLU(0.1))\n",
        "\n",
        "    #Fourth Convolutional layer 64 filters and the kernel size of 3x3 with 'same' padding\n",
        "    model.add(Conv2D(64, (3,3), padding = \"same\"))\n",
        "\n",
        "    #Add a LeakyRelu layer with the slope equal to 0.1\n",
        "    model.add(LeakyReLU(0.1))\n",
        "\n",
        "    #Add a max-pooling layer with a pool size of 2x2\n",
        "    model.add(MaxPool2D(2,2))\n",
        "\n",
        "    #Add a BatchNormalization layer\n",
        "    model.add(BatchNormalization())\n",
        "\n",
        "    #Flatten the output from the previous layer\n",
        "    model.add(Flatten())\n",
        "\n",
        "    #Add a dense layer with 32 nodes\n",
        "    model.add(Dense(32))\n",
        "\n",
        "    #Add a LeakyRelu layer with the slope equal to 0.1\n",
        "    model.add(LeakyReLU(0.1))\n",
        "\n",
        "    #Add a dropout layer with the rate equal to 0.5\n",
        "    model.add(Dropout(0.5))\n",
        "\n",
        "    #Add the final output layer with nodes equal to the number of classes, i.e., 10 and 'softmax' as the activation function\n",
        "    model.add(Dense(10, activation='softmax'))\n",
        "\n",
        "    # Compile the model\n",
        "    # categorical_crossentropy loss, adam optimizers (learning_rate = 0.001), and metric equal to 'accuracy'\n",
        "    model.compile(optimizer = Adam(learning_rate =0.001), loss = 'categorical_crossentropy', metrics = ['accuracy'])\n",
        "    \n",
        "    return model"
      ]
    },
    {
      "cell_type": "code",
      "execution_count": null,
      "metadata": {
        "id": "AKjDY4plnSFl"
      },
      "outputs": [],
      "source": [
        "# Build the model\n",
        "\n",
        "model_2 = cnn_model_2()"
      ]
    },
    {
      "cell_type": "code",
      "execution_count": null,
      "metadata": {
        "colab": {
          "base_uri": "https://localhost:8080/"
        },
        "id": "gz_6SVrU2swZ",
        "outputId": "3fd65d52-e23d-47cb-8c52-6acb17ec9ffc"
      },
      "outputs": [
        {
          "output_type": "stream",
          "name": "stdout",
          "text": [
            "Model: \"sequential\"\n",
            "_________________________________________________________________\n",
            " Layer (type)                Output Shape              Param #   \n",
            "=================================================================\n",
            " conv2d (Conv2D)             (None, 32, 32, 16)        160       \n",
            "                                                                 \n",
            " leaky_re_lu (LeakyReLU)     (None, 32, 32, 16)        0         \n",
            "                                                                 \n",
            " conv2d_1 (Conv2D)           (None, 32, 32, 32)        4640      \n",
            "                                                                 \n",
            " leaky_re_lu_1 (LeakyReLU)   (None, 32, 32, 32)        0         \n",
            "                                                                 \n",
            " max_pooling2d (MaxPooling2D  (None, 16, 16, 32)       0         \n",
            " )                                                               \n",
            "                                                                 \n",
            " batch_normalization (BatchN  (None, 16, 16, 32)       128       \n",
            " ormalization)                                                   \n",
            "                                                                 \n",
            " conv2d_2 (Conv2D)           (None, 16, 16, 32)        9248      \n",
            "                                                                 \n",
            " leaky_re_lu_2 (LeakyReLU)   (None, 16, 16, 32)        0         \n",
            "                                                                 \n",
            " conv2d_3 (Conv2D)           (None, 16, 16, 64)        18496     \n",
            "                                                                 \n",
            " leaky_re_lu_3 (LeakyReLU)   (None, 16, 16, 64)        0         \n",
            "                                                                 \n",
            " max_pooling2d_1 (MaxPooling  (None, 8, 8, 64)         0         \n",
            " 2D)                                                             \n",
            "                                                                 \n",
            " batch_normalization_1 (Batc  (None, 8, 8, 64)         256       \n",
            " hNormalization)                                                 \n",
            "                                                                 \n",
            " flatten (Flatten)           (None, 4096)              0         \n",
            "                                                                 \n",
            " dense (Dense)               (None, 32)                131104    \n",
            "                                                                 \n",
            " leaky_re_lu_4 (LeakyReLU)   (None, 32)                0         \n",
            "                                                                 \n",
            " dropout (Dropout)           (None, 32)                0         \n",
            "                                                                 \n",
            " dense_1 (Dense)             (None, 10)                330       \n",
            "                                                                 \n",
            "=================================================================\n",
            "Total params: 164,362\n",
            "Trainable params: 164,170\n",
            "Non-trainable params: 192\n",
            "_________________________________________________________________\n"
          ]
        }
      ],
      "source": [
        "# Print the summary\n",
        "\n",
        "model_2.summary()"
      ]
    },
    {
      "cell_type": "code",
      "execution_count": null,
      "metadata": {
        "colab": {
          "base_uri": "https://localhost:8080/"
        },
        "id": "IQ0Sc4R-y-uu",
        "outputId": "08f2de99-8f09-48b2-ed21-95bcb72a0a72"
      },
      "outputs": [
        {
          "output_type": "stream",
          "name": "stdout",
          "text": [
            "Epoch 1/30\n",
            "263/263 [==============================] - 4s 11ms/step - loss: 1.4630 - accuracy: 0.5044 - val_loss: 2.3726 - val_accuracy: 0.1625\n",
            "Epoch 2/30\n",
            "263/263 [==============================] - 3s 10ms/step - loss: 0.6910 - accuracy: 0.7857 - val_loss: 0.6267 - val_accuracy: 0.8218\n",
            "Epoch 3/30\n",
            "263/263 [==============================] - 3s 10ms/step - loss: 0.5591 - accuracy: 0.8278 - val_loss: 0.7236 - val_accuracy: 0.7675\n",
            "Epoch 4/30\n",
            "263/263 [==============================] - 3s 9ms/step - loss: 0.4980 - accuracy: 0.8483 - val_loss: 0.4173 - val_accuracy: 0.8813\n",
            "Epoch 5/30\n",
            "263/263 [==============================] - 2s 9ms/step - loss: 0.4478 - accuracy: 0.8644 - val_loss: 0.4095 - val_accuracy: 0.8823\n",
            "Epoch 6/30\n",
            "263/263 [==============================] - 3s 10ms/step - loss: 0.4100 - accuracy: 0.8732 - val_loss: 0.4364 - val_accuracy: 0.8752\n",
            "Epoch 7/30\n",
            "263/263 [==============================] - 3s 10ms/step - loss: 0.3776 - accuracy: 0.8835 - val_loss: 0.4300 - val_accuracy: 0.8823\n",
            "Epoch 8/30\n",
            "263/263 [==============================] - 3s 10ms/step - loss: 0.3562 - accuracy: 0.8890 - val_loss: 0.3834 - val_accuracy: 0.8912\n",
            "Epoch 9/30\n",
            "263/263 [==============================] - 3s 10ms/step - loss: 0.3306 - accuracy: 0.8957 - val_loss: 0.3385 - val_accuracy: 0.9070\n",
            "Epoch 10/30\n",
            "263/263 [==============================] - 3s 10ms/step - loss: 0.3117 - accuracy: 0.9010 - val_loss: 0.3608 - val_accuracy: 0.8994\n",
            "Epoch 11/30\n",
            "263/263 [==============================] - 3s 10ms/step - loss: 0.2967 - accuracy: 0.9063 - val_loss: 0.3879 - val_accuracy: 0.9052\n",
            "Epoch 12/30\n",
            "263/263 [==============================] - 3s 10ms/step - loss: 0.2805 - accuracy: 0.9106 - val_loss: 0.4183 - val_accuracy: 0.9002\n",
            "Epoch 13/30\n",
            "263/263 [==============================] - 3s 10ms/step - loss: 0.2636 - accuracy: 0.9166 - val_loss: 0.3781 - val_accuracy: 0.9058\n",
            "Epoch 14/30\n",
            "263/263 [==============================] - 3s 10ms/step - loss: 0.2616 - accuracy: 0.9171 - val_loss: 0.3742 - val_accuracy: 0.9044\n",
            "Epoch 15/30\n",
            "263/263 [==============================] - 3s 10ms/step - loss: 0.2437 - accuracy: 0.9228 - val_loss: 0.3785 - val_accuracy: 0.9064\n",
            "Epoch 16/30\n",
            "263/263 [==============================] - 3s 10ms/step - loss: 0.2383 - accuracy: 0.9240 - val_loss: 0.3825 - val_accuracy: 0.9017\n",
            "Epoch 17/30\n",
            "263/263 [==============================] - 3s 10ms/step - loss: 0.2260 - accuracy: 0.9270 - val_loss: 0.3981 - val_accuracy: 0.9118\n",
            "Epoch 18/30\n",
            "263/263 [==============================] - 3s 10ms/step - loss: 0.2124 - accuracy: 0.9297 - val_loss: 0.4184 - val_accuracy: 0.8989\n",
            "Epoch 19/30\n",
            "263/263 [==============================] - 3s 10ms/step - loss: 0.2163 - accuracy: 0.9293 - val_loss: 0.3776 - val_accuracy: 0.9112\n",
            "Epoch 20/30\n",
            "263/263 [==============================] - 3s 10ms/step - loss: 0.2029 - accuracy: 0.9349 - val_loss: 0.3914 - val_accuracy: 0.9112\n",
            "Epoch 21/30\n",
            "263/263 [==============================] - 2s 9ms/step - loss: 0.1955 - accuracy: 0.9365 - val_loss: 0.4059 - val_accuracy: 0.9027\n",
            "Epoch 22/30\n",
            "263/263 [==============================] - 3s 10ms/step - loss: 0.1820 - accuracy: 0.9391 - val_loss: 0.4071 - val_accuracy: 0.9121\n",
            "Epoch 23/30\n",
            "263/263 [==============================] - 2s 9ms/step - loss: 0.1873 - accuracy: 0.9382 - val_loss: 0.3904 - val_accuracy: 0.9130\n",
            "Epoch 24/30\n",
            "263/263 [==============================] - 3s 10ms/step - loss: 0.1775 - accuracy: 0.9416 - val_loss: 0.4355 - val_accuracy: 0.9073\n",
            "Epoch 25/30\n",
            "263/263 [==============================] - 2s 9ms/step - loss: 0.1726 - accuracy: 0.9435 - val_loss: 0.4897 - val_accuracy: 0.9074\n",
            "Epoch 26/30\n",
            "263/263 [==============================] - 3s 10ms/step - loss: 0.1682 - accuracy: 0.9446 - val_loss: 0.4398 - val_accuracy: 0.9074\n",
            "Epoch 27/30\n",
            "263/263 [==============================] - 3s 10ms/step - loss: 0.1656 - accuracy: 0.9451 - val_loss: 0.5447 - val_accuracy: 0.8896\n",
            "Epoch 28/30\n",
            "263/263 [==============================] - 3s 10ms/step - loss: 0.1594 - accuracy: 0.9484 - val_loss: 0.4374 - val_accuracy: 0.9131\n",
            "Epoch 29/30\n",
            "263/263 [==============================] - 3s 12ms/step - loss: 0.1554 - accuracy: 0.9482 - val_loss: 0.4281 - val_accuracy: 0.9108\n",
            "Epoch 30/30\n",
            "263/263 [==============================] - 3s 13ms/step - loss: 0.1553 - accuracy: 0.9494 - val_loss: 0.4393 - val_accuracy: 0.9121\n"
          ]
        }
      ],
      "source": [
        "# Fit the model\n",
        "# validation split of 0.2, batch size = 128, verbose = 1, and epochs = 30\n",
        "\n",
        "history_model_2 = model_2.fit(X_train, y_train, validation_split= 0.20 , epochs = 30, batch_size = 128, verbose = 1)"
      ]
    },
    {
      "cell_type": "markdown",
      "metadata": {
        "id": "zKCdy59GKDN1"
      },
      "source": [
        "### **Plotting the validation and training accuracies**"
      ]
    },
    {
      "cell_type": "code",
      "execution_count": null,
      "metadata": {
        "colab": {
          "base_uri": "https://localhost:8080/",
          "height": 497
        },
        "id": "01ig6BrF1KVy",
        "outputId": "808a4cd0-f21e-4328-a929-cc1c6294e6ca"
      },
      "outputs": [
        {
          "output_type": "display_data",
          "data": {
            "text/plain": [
              "<Figure size 576x576 with 1 Axes>"
            ],
            "image/png": "[encoded data removed]"
          },
          "metadata": {
            "needs_background": "light"
          }
        }
      ],
      "source": [
        "# Plotting the accuracies\n",
        "\n",
        "dict_hist = history_model_2.history\n",
        "\n",
        "list_ep = [i for i in range(1, 31)]\n",
        "\n",
        "plt.figure(figsize = (8, 8))\n",
        "\n",
        "plt.plot(list_ep, dict_hist['accuracy'], ls = '--', label = 'accuracy')\n",
        "\n",
        "plt.plot(list_ep, dict_hist['val_accuracy'], ls = '--', label = 'val_accuracy')\n",
        "\n",
        "plt.ylabel('Accuracy')\n",
        "\n",
        "plt.xlabel('Epochs')\n",
        "\n",
        "plt.legend()\n",
        "\n",
        "plt.show()"
      ]
    },
    {
      "cell_type": "markdown",
      "metadata": {
        "id": "VPW1LlD61RDn"
      },
      "source": [
        "**Observations:**\n",
        "- Model 2 does much better on the validation accuracy **we can say the model is giving a generalized performance**\n",
        "- Accuracy on validation data is nearly identical to the the training data (with the testing accuracy being slightly higher), this indicates it is a **good model** and giving a **generalized performance**.\n",
        "- Between model_1 and model_2 validation **accuracy has increased from 86.64% to 91.21%**\n",
        "  - Even though that is only a small increase the main goal was to **reduce overfitting which was successfull**\n",
        "  - This would indicate the **Dropout layer was succesfull in reducing overfitting**\n",
        "  - Would be interesting to see if we could keep the droupout layer that while reducing the overall complexity of this model, potentially decreasing overfitting in the later epochs while maintaining accuracy\n",
        "- Model begins to start **slightly overfitting after epoch 9** (train_accuracy: 89.57%, val_accuracy: 90.70%). However, there are a few models at at higher epochs with slightly higher validation accuracies but the training accuracies also increase and therefore the overfitting is slightly higher at those points aswell.  \n",
        "  - epoch 17 (train_accuracy: 92.70%, val_accuracy: 91.18%) \n",
        "  - epoch 22 (train_accuracy: 93.91%, val_accuracy: 91.21%)\n",
        "  - epoch 23 (train_accuracy: 93.82%, val_accuracy: 91.30%)\n",
        "  - epoch 28 (train_accuracy: 94.84%, val_accuracy: 91.31%)\n",
        "  - **epoch 28 being the highest point of validation accuracy in the model**\n",
        "  - **However those minor improvements would indicate the validation accuracy more or less stagnated after epoch 9**\n",
        "- The validation accuracy begins to show signs of early fluctuation and is taken over by the training accuracy, this suggest the model would not improve with more epochs"
      ]
    },
    {
      "cell_type": "markdown",
      "metadata": {
        "id": "8kuXx9Bvu00f"
      },
      "source": [
        "## **Predictions on the test data**\n",
        "\n",
        "- Make predictions on the test set using the second model.\n",
        "- Print the obtained results using the classification report and the confusion matrix.\n",
        "- Final observations on the obtained results."
      ]
    },
    {
      "cell_type": "code",
      "execution_count": null,
      "metadata": {
        "id": "xbWMEtTj5Ad0"
      },
      "outputs": [],
      "source": [
        "# Make prediction on the test data using model_2 \n",
        "\n",
        "test_pred = model_2.predict(X_test)\n",
        "\n",
        "test_pred = np.argmax(test_pred, axis = -1)"
      ]
    },
    {
      "cell_type": "markdown",
      "metadata": {
        "id": "i3li8Ib08yts"
      },
      "source": [
        "**Note:** Earlier, we noticed that each entry of the target variable is a one-hot encoded vector, but to print the classification report and confusion matrix, we must convert each entry of y_test to a single label."
      ]
    },
    {
      "cell_type": "code",
      "execution_count": null,
      "metadata": {
        "id": "NByu7uAQ8x9P"
      },
      "outputs": [],
      "source": [
        "# Converting each entry to single label from one-hot encoded vector\n",
        "\n",
        "y_test = np.argmax(y_test, axis = -1)"
      ]
    },
    {
      "cell_type": "code",
      "execution_count": null,
      "metadata": {
        "colab": {
          "base_uri": "https://localhost:8080/",
          "height": 629
        },
        "id": "xRddeJ-3EHT1",
        "outputId": "fc2e3b11-98fd-4009-b0ed-76bcde45af17"
      },
      "outputs": [
        {
          "output_type": "stream",
          "name": "stdout",
          "text": [
            "              precision    recall  f1-score   support\n",
            "\n",
            "           0       0.93      0.93      0.93      1814\n",
            "           1       0.89      0.92      0.91      1828\n",
            "           2       0.95      0.92      0.93      1803\n",
            "           3       0.93      0.87      0.90      1719\n",
            "           4       0.92      0.93      0.92      1812\n",
            "           5       0.92      0.91      0.91      1768\n",
            "           6       0.89      0.91      0.90      1832\n",
            "           7       0.94      0.93      0.93      1808\n",
            "           8       0.87      0.91      0.89      1812\n",
            "           9       0.91      0.91      0.91      1804\n",
            "\n",
            "    accuracy                           0.91     18000\n",
            "   macro avg       0.91      0.91      0.91     18000\n",
            "weighted avg       0.91      0.91      0.91     18000\n",
            "\n"
          ]
        },
        {
          "output_type": "display_data",
          "data": {
            "text/plain": [
              "<Figure size 576x360 with 2 Axes>"
            ],
            "image/png": "[encoded data removed]"
          },
          "metadata": {
            "needs_background": "light"
          }
        }
      ],
      "source": [
        "# Importing required functions\n",
        "\n",
        "from sklearn.metrics import classification_report\n",
        "\n",
        "from sklearn.metrics import confusion_matrix\n",
        "\n",
        "# Printing the classification report\n",
        "\n",
        "print(classification_report(y_test, test_pred))\n",
        "\n",
        "# Plotting the heatmap using confusion matrix\n",
        "\n",
        "cm = confusion_matrix(y_test, test_pred)\n",
        "\n",
        "plt.figure(figsize = (8, 5))\n",
        "\n",
        "sns.heatmap(cm, annot = True,  fmt = '.0f')\n",
        "\n",
        "plt.ylabel('Actual')\n",
        "\n",
        "plt.xlabel('Predicted')\n",
        "\n",
        "plt.show()"
      ]
    },
    {
      "cell_type": "markdown",
      "metadata": {
        "id": "DjErl4GA2u9s"
      },
      "source": [
        "**Final Observations:**\n",
        "- The model is giving about **91% accuracy** on the test data which is in line to the accuracy of the validation data. This implies that the model is giving a **generalized performance**.\n",
        "  - This is an significant increase (**+13%**) compaired to our **ANN model (78% accuracy)**\n",
        "- The model was also much more consistent across the different number cathegories, some highlights include:\n",
        "  - Model did well prediciting 2 (95% accuracy)\n",
        "  - Model struggled predicting 8 (87% accuracy)\n",
        "  - Variance from best to worst number went from 17% (ANN) 10% (CNN)\n",
        "  - Slight onfusion between predicting 3 as 5 and 3 as 8\n",
        "      - Likely because they are of similar shape\n",
        "  - Slight confusion predicting 7 as 1 and 6 as 8 \n",
        "      - Likely because both pairs are similar in shape\n",
        "- To improve the model futher we could:\n",
        "  - Strategically decrease complexity and tune some of the hyperparameters to reduce the slight overfiting later in the epochs\n",
        "  - Apply some form of transfer learning to improve accuracy\n",
        "  - Some form of Data Augmentation "
      ]
    },
    {
      "cell_type": "code",
      "source": [],
      "metadata": {
        "id": "Dj7o6c4ZyRmN"
      },
      "execution_count": null,
      "outputs": []
    }
  ],
  "metadata": {
    "accelerator": "GPU",
    "colab": {
      "collapsed_sections": [],
      "provenance": [],
      "include_colab_link": true
    },
    "kernelspec": {
      "display_name": "Python 3 (ipykernel)",
      "language": "python",
      "name": "python3"
    },
    "language_info": {
      "codemirror_mode": {
        "name": "ipython",
        "version": 3
      },
      "file_extension": ".py",
      "mimetype": "text/x-python",
      "name": "python",
      "nbconvert_exporter": "python",
      "pygments_lexer": "ipython3",
      "version": "3.9.7"
    }
  },
  "nbformat": 4,
  "nbformat_minor": 0
}